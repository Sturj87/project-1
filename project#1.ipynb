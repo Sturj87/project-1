{
 "cells": [
  {
   "cell_type": "code",
   "execution_count": 1,
   "id": "4e24eb00",
   "metadata": {},
   "outputs": [],
   "source": [
    "# (1) Create a .CSV file (or optionally, a MySQL database!) that includes all of the information below. \n",
    "# You may change\n",
    "# the structure of the information as you like.\n",
    "# (2) Read the information from your .CSV file into pandas, \n",
    "# and perform analysis to compare the arrival delays for the\n",
    "# two airlines.\n",
    "# (3) Your code should be in a Jupyter (IPython) notebook (in GitHub), \n",
    "# and should include narrative descriptions of your\n",
    "# analysis and conclusions.\n",
    "\n",
    "# Saar Turjeman\n",
    "# IS362 - CUNY SPS SPRING 2024\n"
   ]
  },
  {
   "cell_type": "code",
   "execution_count": 2,
   "id": "00f75e49",
   "metadata": {},
   "outputs": [],
   "source": [
    "import pandas as pd\n",
    "import numpy as np\n",
    "from pandas import Series, DataFrame"
   ]
  },
  {
   "cell_type": "code",
   "execution_count": 3,
   "id": "612240bd",
   "metadata": {},
   "outputs": [
    {
     "data": {
      "text/html": [
       "<div>\n",
       "<style scoped>\n",
       "    .dataframe tbody tr th:only-of-type {\n",
       "        vertical-align: middle;\n",
       "    }\n",
       "\n",
       "    .dataframe tbody tr th {\n",
       "        vertical-align: top;\n",
       "    }\n",
       "\n",
       "    .dataframe thead th {\n",
       "        text-align: right;\n",
       "    }\n",
       "</style>\n",
       "<table border=\"1\" class=\"dataframe\">\n",
       "  <thead>\n",
       "    <tr style=\"text-align: right;\">\n",
       "      <th></th>\n",
       "      <th>Unnamed: 0</th>\n",
       "      <th>Unnamed: 1</th>\n",
       "      <th>Los Angeles</th>\n",
       "      <th>Phoenix</th>\n",
       "      <th>San Diego</th>\n",
       "      <th>San Francisco</th>\n",
       "      <th>Seattle</th>\n",
       "    </tr>\n",
       "  </thead>\n",
       "  <tbody>\n",
       "    <tr>\n",
       "      <th>0</th>\n",
       "      <td>ALASKA</td>\n",
       "      <td>on time</td>\n",
       "      <td>497</td>\n",
       "      <td>221</td>\n",
       "      <td>212</td>\n",
       "      <td>503</td>\n",
       "      <td>1841</td>\n",
       "    </tr>\n",
       "    <tr>\n",
       "      <th>1</th>\n",
       "      <td>ALASKA</td>\n",
       "      <td>delyaed</td>\n",
       "      <td>62</td>\n",
       "      <td>12</td>\n",
       "      <td>20</td>\n",
       "      <td>102</td>\n",
       "      <td>305</td>\n",
       "    </tr>\n",
       "    <tr>\n",
       "      <th>2</th>\n",
       "      <td>AM WEST</td>\n",
       "      <td>on time</td>\n",
       "      <td>694</td>\n",
       "      <td>4840</td>\n",
       "      <td>383</td>\n",
       "      <td>320</td>\n",
       "      <td>201</td>\n",
       "    </tr>\n",
       "    <tr>\n",
       "      <th>3</th>\n",
       "      <td>AM WEST</td>\n",
       "      <td>delyaed</td>\n",
       "      <td>117</td>\n",
       "      <td>415</td>\n",
       "      <td>65</td>\n",
       "      <td>129</td>\n",
       "      <td>61</td>\n",
       "    </tr>\n",
       "  </tbody>\n",
       "</table>\n",
       "</div>"
      ],
      "text/plain": [
       "  Unnamed: 0 Unnamed: 1  Los Angeles  Phoenix  San Diego  San Francisco  \\\n",
       "0     ALASKA    on time          497      221        212            503   \n",
       "1     ALASKA    delyaed           62       12         20            102   \n",
       "2    AM WEST    on time          694     4840        383            320   \n",
       "3    AM WEST    delyaed          117      415         65            129   \n",
       "\n",
       "   Seattle  \n",
       "0     1841  \n",
       "1      305  \n",
       "2      201  \n",
       "3       61  "
      ]
     },
     "execution_count": 3,
     "metadata": {},
     "output_type": "execute_result"
    }
   ],
   "source": [
    "df = pd.read_csv(\"assignment#1.csv\")\n",
    "df"
   ]
  },
  {
   "cell_type": "code",
   "execution_count": 4,
   "id": "4e7c8589",
   "metadata": {},
   "outputs": [],
   "source": [
    "# approach to solving the problem\n",
    "\n",
    "# 1. Rename columns.\n",
    "# 2. Show airline data separately.\n",
    "# 3. show airline vs airline by destiation and on time performance.\n",
    "# 4. show cumaltive data for all stations.\n",
    "# 5. take the descrpitive data and explain each for each airline"
   ]
  },
  {
   "cell_type": "code",
   "execution_count": 5,
   "id": "e5a080b7",
   "metadata": {},
   "outputs": [],
   "source": [
    "df.columns = ['Airline', 'Flight Status', 'Los Angeles', 'Phoenix', 'San Diego', 'San Francisco', 'Seattle']"
   ]
  },
  {
   "cell_type": "code",
   "execution_count": 6,
   "id": "1e990f35",
   "metadata": {},
   "outputs": [
    {
     "data": {
      "text/html": [
       "<div>\n",
       "<style scoped>\n",
       "    .dataframe tbody tr th:only-of-type {\n",
       "        vertical-align: middle;\n",
       "    }\n",
       "\n",
       "    .dataframe tbody tr th {\n",
       "        vertical-align: top;\n",
       "    }\n",
       "\n",
       "    .dataframe thead th {\n",
       "        text-align: right;\n",
       "    }\n",
       "</style>\n",
       "<table border=\"1\" class=\"dataframe\">\n",
       "  <thead>\n",
       "    <tr style=\"text-align: right;\">\n",
       "      <th></th>\n",
       "      <th>Airline</th>\n",
       "      <th>Flight Status</th>\n",
       "      <th>Los Angeles</th>\n",
       "      <th>Phoenix</th>\n",
       "      <th>San Diego</th>\n",
       "      <th>San Francisco</th>\n",
       "      <th>Seattle</th>\n",
       "    </tr>\n",
       "  </thead>\n",
       "  <tbody>\n",
       "    <tr>\n",
       "      <th>0</th>\n",
       "      <td>ALASKA</td>\n",
       "      <td>on time</td>\n",
       "      <td>497</td>\n",
       "      <td>221</td>\n",
       "      <td>212</td>\n",
       "      <td>503</td>\n",
       "      <td>1841</td>\n",
       "    </tr>\n",
       "    <tr>\n",
       "      <th>1</th>\n",
       "      <td>ALASKA</td>\n",
       "      <td>delyaed</td>\n",
       "      <td>62</td>\n",
       "      <td>12</td>\n",
       "      <td>20</td>\n",
       "      <td>102</td>\n",
       "      <td>305</td>\n",
       "    </tr>\n",
       "    <tr>\n",
       "      <th>2</th>\n",
       "      <td>AM WEST</td>\n",
       "      <td>on time</td>\n",
       "      <td>694</td>\n",
       "      <td>4840</td>\n",
       "      <td>383</td>\n",
       "      <td>320</td>\n",
       "      <td>201</td>\n",
       "    </tr>\n",
       "    <tr>\n",
       "      <th>3</th>\n",
       "      <td>AM WEST</td>\n",
       "      <td>delyaed</td>\n",
       "      <td>117</td>\n",
       "      <td>415</td>\n",
       "      <td>65</td>\n",
       "      <td>129</td>\n",
       "      <td>61</td>\n",
       "    </tr>\n",
       "  </tbody>\n",
       "</table>\n",
       "</div>"
      ],
      "text/plain": [
       "   Airline Flight Status  Los Angeles  Phoenix  San Diego  San Francisco  \\\n",
       "0   ALASKA       on time          497      221        212            503   \n",
       "1   ALASKA       delyaed           62       12         20            102   \n",
       "2  AM WEST       on time          694     4840        383            320   \n",
       "3  AM WEST       delyaed          117      415         65            129   \n",
       "\n",
       "   Seattle  \n",
       "0     1841  \n",
       "1      305  \n",
       "2      201  \n",
       "3       61  "
      ]
     },
     "execution_count": 6,
     "metadata": {},
     "output_type": "execute_result"
    }
   ],
   "source": [
    "df"
   ]
  },
  {
   "cell_type": "code",
   "execution_count": 7,
   "id": "8c857800",
   "metadata": {},
   "outputs": [
    {
     "data": {
      "text/html": [
       "<div>\n",
       "<style scoped>\n",
       "    .dataframe tbody tr th:only-of-type {\n",
       "        vertical-align: middle;\n",
       "    }\n",
       "\n",
       "    .dataframe tbody tr th {\n",
       "        vertical-align: top;\n",
       "    }\n",
       "\n",
       "    .dataframe thead th {\n",
       "        text-align: right;\n",
       "    }\n",
       "</style>\n",
       "<table border=\"1\" class=\"dataframe\">\n",
       "  <thead>\n",
       "    <tr style=\"text-align: right;\">\n",
       "      <th></th>\n",
       "      <th>Airline</th>\n",
       "      <th>Flight Status</th>\n",
       "      <th>Los Angeles</th>\n",
       "      <th>Phoenix</th>\n",
       "      <th>San Diego</th>\n",
       "      <th>San Francisco</th>\n",
       "      <th>Seattle</th>\n",
       "    </tr>\n",
       "  </thead>\n",
       "  <tbody>\n",
       "    <tr>\n",
       "      <th>0</th>\n",
       "      <td>ALASKA</td>\n",
       "      <td>on time</td>\n",
       "      <td>497</td>\n",
       "      <td>221</td>\n",
       "      <td>212</td>\n",
       "      <td>503</td>\n",
       "      <td>1841</td>\n",
       "    </tr>\n",
       "    <tr>\n",
       "      <th>1</th>\n",
       "      <td>ALASKA</td>\n",
       "      <td>delyaed</td>\n",
       "      <td>62</td>\n",
       "      <td>12</td>\n",
       "      <td>20</td>\n",
       "      <td>102</td>\n",
       "      <td>305</td>\n",
       "    </tr>\n",
       "  </tbody>\n",
       "</table>\n",
       "</div>"
      ],
      "text/plain": [
       "  Airline Flight Status  Los Angeles  Phoenix  San Diego  San Francisco  \\\n",
       "0  ALASKA       on time          497      221        212            503   \n",
       "1  ALASKA       delyaed           62       12         20            102   \n",
       "\n",
       "   Seattle  \n",
       "0     1841  \n",
       "1      305  "
      ]
     },
     "execution_count": 7,
     "metadata": {},
     "output_type": "execute_result"
    }
   ],
   "source": [
    "# extract the ALASKA airline data separately\n",
    "df.loc[0:1]"
   ]
  },
  {
   "cell_type": "code",
   "execution_count": 8,
   "id": "21d9ecfe",
   "metadata": {},
   "outputs": [
    {
     "data": {
      "text/html": [
       "<div>\n",
       "<style scoped>\n",
       "    .dataframe tbody tr th:only-of-type {\n",
       "        vertical-align: middle;\n",
       "    }\n",
       "\n",
       "    .dataframe tbody tr th {\n",
       "        vertical-align: top;\n",
       "    }\n",
       "\n",
       "    .dataframe thead th {\n",
       "        text-align: right;\n",
       "    }\n",
       "</style>\n",
       "<table border=\"1\" class=\"dataframe\">\n",
       "  <thead>\n",
       "    <tr style=\"text-align: right;\">\n",
       "      <th></th>\n",
       "      <th>Airline</th>\n",
       "      <th>Flight Status</th>\n",
       "      <th>Los Angeles</th>\n",
       "      <th>Phoenix</th>\n",
       "      <th>San Diego</th>\n",
       "      <th>San Francisco</th>\n",
       "      <th>Seattle</th>\n",
       "    </tr>\n",
       "  </thead>\n",
       "  <tbody>\n",
       "    <tr>\n",
       "      <th>2</th>\n",
       "      <td>AM WEST</td>\n",
       "      <td>on time</td>\n",
       "      <td>694</td>\n",
       "      <td>4840</td>\n",
       "      <td>383</td>\n",
       "      <td>320</td>\n",
       "      <td>201</td>\n",
       "    </tr>\n",
       "    <tr>\n",
       "      <th>3</th>\n",
       "      <td>AM WEST</td>\n",
       "      <td>delyaed</td>\n",
       "      <td>117</td>\n",
       "      <td>415</td>\n",
       "      <td>65</td>\n",
       "      <td>129</td>\n",
       "      <td>61</td>\n",
       "    </tr>\n",
       "  </tbody>\n",
       "</table>\n",
       "</div>"
      ],
      "text/plain": [
       "   Airline Flight Status  Los Angeles  Phoenix  San Diego  San Francisco  \\\n",
       "2  AM WEST       on time          694     4840        383            320   \n",
       "3  AM WEST       delyaed          117      415         65            129   \n",
       "\n",
       "   Seattle  \n",
       "2      201  \n",
       "3       61  "
      ]
     },
     "execution_count": 8,
     "metadata": {},
     "output_type": "execute_result"
    }
   ],
   "source": [
    "# extract the AM WEST airline data separately\n",
    "df.loc[2:3]"
   ]
  },
  {
   "cell_type": "code",
   "execution_count": 47,
   "id": "a9d63432",
   "metadata": {},
   "outputs": [
    {
     "data": {
      "text/plain": [
       "Airline           ALASKA\n",
       "Flight Status    on time\n",
       "Los Angeles          497\n",
       "Phoenix              221\n",
       "San Diego            212\n",
       "San Francisco        503\n",
       "Seattle             1841\n",
       "Name: 0, dtype: object"
      ]
     },
     "execution_count": 47,
     "metadata": {},
     "output_type": "execute_result"
    }
   ],
   "source": [
    "# ALASKA ON TIME\n",
    "df.loc[0]"
   ]
  },
  {
   "cell_type": "code",
   "execution_count": 48,
   "id": "d14ccfd9",
   "metadata": {},
   "outputs": [
    {
     "data": {
      "text/plain": [
       "Los Angeles       497\n",
       "Phoenix           221\n",
       "San Diego         212\n",
       "San Francisco     503\n",
       "Seattle          1841\n",
       "Name: 0, dtype: int64"
      ]
     },
     "execution_count": 48,
     "metadata": {},
     "output_type": "execute_result"
    }
   ],
   "source": [
    "# alaska cities on time\n",
    "alaska_cities = df.iloc[0,2:]\n",
    "alaska_cities\n",
    "\n",
    "# change type from object to int to performe math calculations \n",
    "\n",
    "alaska_cities.astype(np.int64)\n"
   ]
  },
  {
   "cell_type": "code",
   "execution_count": 49,
   "id": "ce9f9641",
   "metadata": {},
   "outputs": [
    {
     "data": {
      "text/plain": [
       "count       5.000000\n",
       "mean      654.800000\n",
       "std       678.098223\n",
       "min       212.000000\n",
       "25%       221.000000\n",
       "50%       497.000000\n",
       "75%       503.000000\n",
       "max      1841.000000\n",
       "Name: 0, dtype: float64"
      ]
     },
     "execution_count": 49,
     "metadata": {},
     "output_type": "execute_result"
    }
   ],
   "source": [
    "# run the describe method, shows math operations: count, mean, std, min, 25%, 50%, 75%, mac\n",
    "alaska_cities.astype(np.int64).describe()"
   ]
  },
  {
   "cell_type": "code",
   "execution_count": 57,
   "id": "b68010de",
   "metadata": {},
   "outputs": [
    {
     "data": {
      "text/plain": [
       "654.8"
      ]
     },
     "execution_count": 57,
     "metadata": {},
     "output_type": "execute_result"
    }
   ],
   "source": [
    "# average ALASKA on time flight performance\n",
    "alaska_cities_ontime_mean = alaska_cities.mean()\n",
    "alaska_cities_ontime_mean"
   ]
  },
  {
   "cell_type": "code",
   "execution_count": 51,
   "id": "6cf0574a",
   "metadata": {},
   "outputs": [
    {
     "data": {
      "text/plain": [
       "Airline          AM WEST\n",
       "Flight Status    on time\n",
       "Los Angeles          694\n",
       "Phoenix             4840\n",
       "San Diego            383\n",
       "San Francisco        320\n",
       "Seattle              201\n",
       "Name: 2, dtype: object"
      ]
     },
     "execution_count": 51,
     "metadata": {},
     "output_type": "execute_result"
    }
   ],
   "source": [
    "# AM WEST ON TIME\n",
    "df.loc[2]"
   ]
  },
  {
   "cell_type": "code",
   "execution_count": 53,
   "id": "ed0d7d9b",
   "metadata": {},
   "outputs": [
    {
     "data": {
      "text/plain": [
       "Los Angeles       694\n",
       "Phoenix          4840\n",
       "San Diego         383\n",
       "San Francisco     320\n",
       "Seattle           201\n",
       "Name: 2, dtype: int64"
      ]
     },
     "execution_count": 53,
     "metadata": {},
     "output_type": "execute_result"
    }
   ],
   "source": [
    "# AM WEST cities on time\n",
    "amwest_cities = df.iloc[2,2:]\n",
    "amwest_cities\n",
    "\n",
    "# change type from object to int to performe math calculations \n",
    "\n",
    "amwest_cities.astype(np.int64)\n"
   ]
  },
  {
   "cell_type": "code",
   "execution_count": 54,
   "id": "80a6f7fb",
   "metadata": {},
   "outputs": [
    {
     "data": {
      "text/plain": [
       "count       5.000000\n",
       "mean     1287.600000\n",
       "std      1994.188883\n",
       "min       201.000000\n",
       "25%       320.000000\n",
       "50%       383.000000\n",
       "75%       694.000000\n",
       "max      4840.000000\n",
       "Name: 2, dtype: float64"
      ]
     },
     "execution_count": 54,
     "metadata": {},
     "output_type": "execute_result"
    }
   ],
   "source": [
    "# run the describe method, shows math operations: count, mean, std, min, 25%, 50%, 75%, max\n",
    "amwest_cities.astype(np.int64).describe()"
   ]
  },
  {
   "cell_type": "code",
   "execution_count": 56,
   "id": "5332c5b6",
   "metadata": {},
   "outputs": [
    {
     "data": {
      "text/plain": [
       "1287.6"
      ]
     },
     "execution_count": 56,
     "metadata": {},
     "output_type": "execute_result"
    }
   ],
   "source": [
    "# average AM WEST on time flight performance\n",
    "amwest_ontime_mean = amwest_cities.mean()\n",
    "amwest_ontime_mean "
   ]
  },
  {
   "cell_type": "code",
   "execution_count": 75,
   "id": "8ab09628",
   "metadata": {},
   "outputs": [
    {
     "data": {
      "text/html": [
       "<div>\n",
       "<style scoped>\n",
       "    .dataframe tbody tr th:only-of-type {\n",
       "        vertical-align: middle;\n",
       "    }\n",
       "\n",
       "    .dataframe tbody tr th {\n",
       "        vertical-align: top;\n",
       "    }\n",
       "\n",
       "    .dataframe thead th {\n",
       "        text-align: right;\n",
       "    }\n",
       "</style>\n",
       "<table border=\"1\" class=\"dataframe\">\n",
       "  <thead>\n",
       "    <tr style=\"text-align: right;\">\n",
       "      <th></th>\n",
       "      <th>ALASKA average on time flights</th>\n",
       "      <th>AM WEST average on time flights</th>\n",
       "    </tr>\n",
       "  </thead>\n",
       "  <tbody>\n",
       "    <tr>\n",
       "      <th>0</th>\n",
       "      <td>654.8</td>\n",
       "      <td>1287.6</td>\n",
       "    </tr>\n",
       "  </tbody>\n",
       "</table>\n",
       "</div>"
      ],
      "text/plain": [
       "   ALASKA average on time flights  AM WEST average on time flights\n",
       "0                           654.8                           1287.6"
      ]
     },
     "execution_count": 75,
     "metadata": {},
     "output_type": "execute_result"
    }
   ],
   "source": [
    "# compare the ontime flights for both airlines and put in a new dataframe\n",
    "df1 = pd.DataFrame({\n",
    "    'ALASKA average on time flights': [alaska_cities_ontime_mean],\n",
    "    'AM WEST average on time flights': [amwest_ontime_mean]\n",
    "})\n",
    "df1"
   ]
  },
  {
   "cell_type": "code",
   "execution_count": 70,
   "id": "23851ca1",
   "metadata": {},
   "outputs": [
    {
     "data": {
      "text/plain": [
       "100.2"
      ]
     },
     "execution_count": 70,
     "metadata": {},
     "output_type": "execute_result"
    }
   ],
   "source": [
    "# ALASKA delayed flights\n",
    "df.loc[1]\n",
    "# alaska cities delayed flights \n",
    "alaska_cities_d = df.iloc[1,2:]\n",
    "alaska_cities_d\n",
    "\n",
    "# change type from object to int to performe math calculations \n",
    "\n",
    "alaska_cities_d.astype(np.int64)\n",
    "\n",
    "# run the describe method, shows math operations: count, mean, std, min, 25%, 50%, 75%, max\n",
    "alaska_cities_d.astype(np.int64).describe()\n",
    "\n",
    "# average ALASKA dealyed flights\n",
    "alaska_cities_delayed = alaska_cities_d.mean()\n",
    "alaska_cities_delayed "
   ]
  },
  {
   "cell_type": "code",
   "execution_count": 73,
   "id": "8677c518",
   "metadata": {},
   "outputs": [
    {
     "data": {
      "text/plain": [
       "1287.6"
      ]
     },
     "execution_count": 73,
     "metadata": {},
     "output_type": "execute_result"
    }
   ],
   "source": [
    "# AM WEST ON TIME\n",
    "df.loc[3]\n",
    "# AM WEST cities delayed\n",
    "amwest_cities_d = df.iloc[2,2:]\n",
    "amwest_cities_d\n",
    "\n",
    "# change type from object to int to performe math calculations \n",
    "\n",
    "amwest_cities_d.astype(np.int64)\n",
    "# run the describe method, shows math operations: count, mean, std, min, 25%, 50%, 75%, max\n",
    "\n",
    "amwest_cities_d.astype(np.int64).describe()\n",
    "\n",
    "# average AM WEST on time flight performance\n",
    "amwest_cities_delayed = amwest_cities_d.mean()\n",
    "amwest_cities_delayed"
   ]
  },
  {
   "cell_type": "code",
   "execution_count": 76,
   "id": "699f160a",
   "metadata": {},
   "outputs": [
    {
     "data": {
      "text/html": [
       "<div>\n",
       "<style scoped>\n",
       "    .dataframe tbody tr th:only-of-type {\n",
       "        vertical-align: middle;\n",
       "    }\n",
       "\n",
       "    .dataframe tbody tr th {\n",
       "        vertical-align: top;\n",
       "    }\n",
       "\n",
       "    .dataframe thead th {\n",
       "        text-align: right;\n",
       "    }\n",
       "</style>\n",
       "<table border=\"1\" class=\"dataframe\">\n",
       "  <thead>\n",
       "    <tr style=\"text-align: right;\">\n",
       "      <th></th>\n",
       "      <th>Alaska Delayed flights Average</th>\n",
       "      <th>AM WEST Delayed flights Average</th>\n",
       "    </tr>\n",
       "  </thead>\n",
       "  <tbody>\n",
       "    <tr>\n",
       "      <th>0</th>\n",
       "      <td>100.2</td>\n",
       "      <td>1287.6</td>\n",
       "    </tr>\n",
       "  </tbody>\n",
       "</table>\n",
       "</div>"
      ],
      "text/plain": [
       "   Alaska Delayed flights Average  AM WEST Delayed flights Average\n",
       "0                           100.2                           1287.6"
      ]
     },
     "execution_count": 76,
     "metadata": {},
     "output_type": "execute_result"
    }
   ],
   "source": [
    "# compare the ontime flights for both airlines and put in a new dataframe\n",
    "df2 = pd.DataFrame({\n",
    "    'Alaska Delayed flights Average': [alaska_cities_delayed],\n",
    "    'AM WEST Delayed flights Average': [amwest_cities_delayed]\n",
    "})\n",
    "df2"
   ]
  },
  {
   "cell_type": "code",
   "execution_count": 83,
   "id": "305971f6",
   "metadata": {},
   "outputs": [
    {
     "name": "stdout",
     "output_type": "stream",
     "text": [
      "   ALASKA average on time flights  AM WEST average on time flights  \\\n",
      "0                           654.8                           1287.6   \n",
      "\n",
      "   Alaska Delayed flights Average  AM WEST Delayed flights Average  \n",
      "0                           100.2                           1287.6  \n"
     ]
    }
   ],
   "source": [
    "# Combine df1 and df2 horizontally, excluding NaN values\n",
    "result = df1.join(df2, how='inner')\n",
    "\n",
    "# Print the result\n",
    "print(result)\n"
   ]
  },
  {
   "cell_type": "code",
   "execution_count": 85,
   "id": "9f9d39ee",
   "metadata": {},
   "outputs": [
    {
     "data": {
      "text/html": [
       "<div>\n",
       "<style scoped>\n",
       "    .dataframe tbody tr th:only-of-type {\n",
       "        vertical-align: middle;\n",
       "    }\n",
       "\n",
       "    .dataframe tbody tr th {\n",
       "        vertical-align: top;\n",
       "    }\n",
       "\n",
       "    .dataframe thead th {\n",
       "        text-align: right;\n",
       "    }\n",
       "</style>\n",
       "<table border=\"1\" class=\"dataframe\">\n",
       "  <thead>\n",
       "    <tr style=\"text-align: right;\">\n",
       "      <th></th>\n",
       "      <th>ALASKA average on time flights</th>\n",
       "      <th>AM WEST average on time flights</th>\n",
       "      <th>Alaska Delayed flights Average</th>\n",
       "      <th>AM WEST Delayed flights Average</th>\n",
       "    </tr>\n",
       "  </thead>\n",
       "  <tbody>\n",
       "    <tr>\n",
       "      <th>0</th>\n",
       "      <td>654.8</td>\n",
       "      <td>1287.6</td>\n",
       "      <td>100.2</td>\n",
       "      <td>1287.6</td>\n",
       "    </tr>\n",
       "  </tbody>\n",
       "</table>\n",
       "</div>"
      ],
      "text/plain": [
       "   ALASKA average on time flights  AM WEST average on time flights  \\\n",
       "0                           654.8                           1287.6   \n",
       "\n",
       "   Alaska Delayed flights Average  AM WEST Delayed flights Average  \n",
       "0                           100.2                           1287.6  "
      ]
     },
     "metadata": {},
     "output_type": "display_data"
    }
   ],
   "source": [
    "# Display the combined DataFrame as a formatted table\n",
    "display(result)"
   ]
  },
  {
   "cell_type": "code",
   "execution_count": null,
   "id": "b767e050",
   "metadata": {},
   "outputs": [],
   "source": []
  }
 ],
 "metadata": {
  "kernelspec": {
   "display_name": "Python 3 (ipykernel)",
   "language": "python",
   "name": "python3"
  },
  "language_info": {
   "codemirror_mode": {
    "name": "ipython",
    "version": 3
   },
   "file_extension": ".py",
   "mimetype": "text/x-python",
   "name": "python",
   "nbconvert_exporter": "python",
   "pygments_lexer": "ipython3",
   "version": "3.9.13"
  }
 },
 "nbformat": 4,
 "nbformat_minor": 5
}
